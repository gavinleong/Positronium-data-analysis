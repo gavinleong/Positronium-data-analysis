{
 "cells": [
  {
   "cell_type": "code",
   "execution_count": 3,
   "metadata": {
    "collapsed": true
   },
   "outputs": [],
   "source": [
    "import numpy as np\n",
    "import matplotlib.pyplot as plt\n",
    "%matplotlib inline\n",
    "from scipy.optimize import curve_fit # we're importing just this one function from scipy.optimize\n",
    "from scipy.interpolate import UnivariateSpline"
   ]
  },
  {
   "cell_type": "code",
   "execution_count": 24,
   "metadata": {
    "collapsed": false
   },
   "outputs": [
    {
     "name": "stdout",
     "output_type": "stream",
     "text": [
      "3581918.0\n",
      "122.0703125\n"
     ]
    },
    {
     "data": {
      "text/plain": [
       "list"
      ]
     },
     "execution_count": 24,
     "metadata": {},
     "output_type": "execute_result"
    },
    {
     "data": {
      "image/png": "[encoded data removed]",
      "text/plain": [
       "<matplotlib.figure.Figure at 0x1609eba8>"
      ]
     },
     "metadata": {},
     "output_type": "display_data"
    }
   ],
   "source": [
    "plt.figure(num=None, figsize=(15, 8), dpi=80, facecolor='w', edgecolor='k')\n",
    "\n",
    "ydata = np.loadtxt('N:/Lab 3/Positronium/161014_lifetime_23-24psi_delay_115(2.5)ns.csv', comments = '#', unpack = True)\n",
    "xdata = 1000*np.arange(0,2048) / 2048.0\n",
    "\n",
    "index = [item for item in range(len(ydata)) if ydata[item] == 0]\n",
    "ydata = [i for j, i in enumerate(ydata) if j not in index]\n",
    "xdata = [i for j, i in enumerate(xdata) if j not in index]\n",
    "\n",
    "print(np.max(ydata))\n",
    "\n",
    "x_index = np.arange(len(xdata))\n",
    "\n",
    "\n",
    "for i in x_index:\n",
    "    if ydata[i] == np.max(ydata):\n",
    "        start = i\n",
    "        x0 = xdata[start]\n",
    "print(x0)\n",
    "\n",
    "xdata_cut = xdata[start:]\n",
    "ydata_cut = ydata[start:]\n",
    "\n",
    "\n",
    "plt.semilogy(xdata_cut,ydata_cut,'b.')\n",
    "\n",
    "type(ydata)\n"
   ]
  },
  {
   "cell_type": "code",
   "execution_count": 32,
   "metadata": {
    "collapsed": false
   },
   "outputs": [],
   "source": [
    "import scipy as sp\n",
    "from numpy.polynomial.legendre import legint\n",
    "from scipy.linalg import lu_factor, lu_solve\n",
    "\n",
    "def intMatLegendre(n,order):    \n",
    "    \"\"\" Legendre polynomial integration matrix \"\"\"\n",
    "\n",
    "    I = np.eye(n)\n",
    "    B = legint(I,order)\n",
    "\n",
    "    return B\n",
    "\n",
    "class ode_solver(object):\n",
    "\n",
    "    def __init__(self,m,p):\n",
    "\n",
    "        self.m = m\n",
    "        self.p = p\n",
    "        self.B = []\n",
    "        self.a = np.zeros(p)\n",
    "        self.c = np.zeros(p)\n",
    "        self.y = np.zeros(m)\n",
    "\n",
    "        for k in range(p):\n",
    "            self.B.insert(0,intMatLegendre(m,p-k)[p:(k-p),:])\n",
    "\n",
    "        self.B.insert(0,intMatLegendre(m,0)[p:,:])\n",
    "\n",
    "    def setCoeffs(self,a):\n",
    "        \"\"\" Construct the solution operator given the coefficients\n",
    "            do the LU decomposition\n",
    "        \"\"\"\n",
    "\n",
    "        # Update system matrix only if coefficients change\n",
    "        if self.a is not a:\n",
    "\n",
    "            self.a = a\n",
    "            A = np.zeros((self.m-self.p,self.m))\n",
    "\n",
    "            for k in range(self.p+1):\n",
    "                A += self.a[k]*self.B[self.p-k]         \n",
    "            # L,U,P factors for the system matrix\n",
    "            self.factors = lu_factor(A[:,self.p:])\n",
    "\n",
    "            # Moment condition terms\n",
    "            self.cond = A[:,:self.p]\n",
    "\n",
    "    def solve(self,c,f):\n",
    "        self.c = c\n",
    "        self.y[:self.p] = c\n",
    "        rhs = np.dot(self.B[-1],f) - np.dot(self.cond,c)\n",
    "        self.y[self.p:] = lu_solve(self.factors,rhs)\n",
    "        return self.y.copy()\n",
    "\n",
    "    def tangent(self):\n",
    "        dy = np.zeros((self.m,self.p+1))\n",
    "\n",
    "        for k in range(self.p+1):\n",
    "            By = np.dot(self.B[self.p-k],self.y)\n",
    "            dy[self.p:,k] = -lu_solve(self.factors,By)\n",
    "\n",
    "\n",
    "        return dy         \n",
    "    \n",
    "\n",
    "from numpy.polynomial.legendre import legval, legvander\n",
    "from scipy.optimize import leastsq\n",
    "\n",
    "class expfit(object):\n",
    "    \n",
    "    def __init__(self,t,m,p):\n",
    "        \"\"\" \n",
    "        t - original grid (possibly nonuninform)\n",
    "        m - number of polynomial modes\n",
    "        p - order of differential equation\n",
    "        \n",
    "        \"\"\" \n",
    "        \n",
    "        self.n = len(t)\n",
    "        dt = t[1:]-t[:-1]\n",
    "\n",
    "        self.m = m;  self.p = p       \n",
    "        self.scale = 2/(t[-1]-t[0])\n",
    "\n",
    "        # Trapezoidal weights\n",
    "        self.w       = np.zeros(self.n)\n",
    "        self.w[0]    = 0.5*dt[0]\n",
    "        self.w[1:-1] = 0.5*(dt[1:]+dt[:-1])\n",
    "        self.w[-1]   = 0.5*dt[-1]\n",
    "        self.w      *= self.scale \n",
    "        \n",
    "        # Mapped absiccae\n",
    "        self.t = t\n",
    "        self.x = 2*(t-t[0])/(t[-1]-t[0])-1\n",
    "        self.L = legvander(self.x,p-1)\n",
    "\n",
    "        self.solver = ode_solver(m,p)\n",
    "        self.yhat = np.zeros(m) \n",
    "\n",
    "    def setTarget(self,z):\n",
    "        self.z = z\n",
    "\n",
    "    def setCoeffs(self,a):\n",
    "        self.solver.setCoeffs(a)\n",
    "\n",
    "    def computeState(self,z,fhat):\n",
    "        \"\"\" Update state \"\"\"\n",
    "        c = np.dot(self.L.T,self.w*z)*(0.5+np.arange(self.p))         \n",
    "        self.yhat = self.solver.solve(c,fhat)\n",
    "        return self.yhat.copy()\n",
    "\n",
    "    def getResidual(self,a):\n",
    "        \"\"\" Computes difference between data and model \"\"\"\n",
    "        self.solver.setCoeffs(a)\n",
    "        c = np.dot(self.L.T,self.w*self.z)*(0.5+np.arange(self.p))         \n",
    "        self.yhat = self.solver.solve(c,np.eye(self.m)[0])\n",
    "        y = legval(self.x,self.yhat)\n",
    "        res = self.z-y\n",
    "        return res        \n",
    "\n",
    "    def getJacobian(self,a):\n",
    "        \"\"\" Computes the Jacobian of the residual \"\"\"\n",
    "        self.solver.setCoeffs(a)\n",
    "        J = np.zeros((self.n,self.p+1))\n",
    "\n",
    "        dy = self.solver.tangent()\n",
    "        for k in range(self.p+1):\n",
    "            J[:,k] = -legval(self.x,dy[:,k])\n",
    "\n",
    "        return J\n",
    "\n",
    "\n",
    "    def getOptCoeffs(self,z,a0):\n",
    "        \"\"\" Compute the optimal exponential and mantissa coefficients\n",
    "            so that the model best matches the data. \n",
    "\n",
    "            a0 is an initial guess  \"\"\"\n",
    "\n",
    "        self.setTarget(z)\n",
    "        aopt = leastsq(self.getResidual,a0,Dfun=self.getJacobian)\n",
    "\n",
    "        # Compute the roots (exponential decay rates)\n",
    "        lam = np.roots(np.flipud(aopt[0]))*self.scale\n",
    "        V = np.exp(np.outer(self.t,np.hstack((0,lam))))\n",
    "        lsq = np.linalg.lstsq(V,z)\n",
    "        alp = lsq[0][0]\n",
    "        bet = lsq[0][1:]\n",
    "        \n",
    "        return alp,bet,lam,aopt[0]\n",
    "\n",
    "    def getCurrentState(self):\n",
    "        return legval(self.x,self.yhat)"
   ]
  },
  {
   "cell_type": "code",
   "execution_count": 40,
   "metadata": {
    "collapsed": false
   },
   "outputs": [
    {
     "name": "stdout",
     "output_type": "stream",
     "text": [
      "[ 122.0703  122.5586  123.0469 ...,  982.9102  983.3984  983.8867]\n",
      "[  3.5819e+06   2.2546e+06   9.2055e+05 ...,   1.3790e+03   1.3440e+03   1.3110e+03]\n"
     ]
    }
   ],
   "source": [
    "type(xdata_cut)\n",
    "xdata_cut = np.array(xdata_cut)\n",
    "print(xdata_cut)\n",
    "\n",
    "ydata_cut = np.array(ydata_cut)\n",
    "print(ydata_cut)\n"
   ]
  },
  {
   "cell_type": "code",
   "execution_count": 49,
   "metadata": {
    "collapsed": false
   },
   "outputs": [
    {
     "data": {
      "image/png": "[encoded data removed]",
      "text/plain": [
       "<matplotlib.figure.Figure at 0x17e647f0>"
      ]
     },
     "metadata": {},
     "output_type": "display_data"
    },
    {
     "name": "stdout",
     "output_type": "stream",
     "text": [
      "-34483.3211183\n",
      "[     0.      62777.0062]\n",
      "[ -1.3732e+00  -8.4361e-04]\n"
     ]
    }
   ],
   "source": [
    "if __name__ == '__main__':\n",
    "\n",
    "    n = 30000    # Number of time steps\n",
    "    m = 200      # Number of polynomial modes\n",
    "    p = 2       # Number of exponentials \n",
    "    \n",
    "    #t = np.linspace(100,1000,n)\n",
    " \n",
    "    np.set_printoptions(precision=4,linewidth=999)\n",
    "\n",
    "\n",
    "    fit = expfit(xdata_cut,m,p)\n",
    "\n",
    "    a0 = np.ones(p+1)\n",
    "\n",
    "    alp,bet,lam,aopt = fit.getOptCoeffs(ydata_cut,a0)\n",
    "    y = fit.getCurrentState()\n",
    "\n",
    "    plt.plot(xdata_cut,ydata_cut,'b.',xdata_cut,y,'r-')\n",
    "    plt.xlim(100, 200)\n",
    "    plt.ylim(1000, 50000)\n",
    "    plt.show() \n",
    "\n",
    "    print alp\n",
    "    print bet\n",
    "    print lam"
   ]
  },
  {
   "cell_type": "code",
   "execution_count": null,
   "metadata": {
    "collapsed": true
   },
   "outputs": [],
   "source": []
  }
 ],
 "metadata": {
  "kernelspec": {
   "display_name": "Python 2",
   "language": "python",
   "name": "python2"
  },
  "language_info": {
   "codemirror_mode": {
    "name": "ipython",
    "version": 2
   },
   "file_extension": ".py",
   "mimetype": "text/x-python",
   "name": "python",
   "nbconvert_exporter": "python",
   "pygments_lexer": "ipython2",
   "version": "2.7.10"
  }
 },
 "nbformat": 4,
 "nbformat_minor": 0
}
